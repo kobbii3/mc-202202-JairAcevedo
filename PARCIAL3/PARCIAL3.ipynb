{
  "nbformat": 4,
  "nbformat_minor": 0,
  "metadata": {
    "colab": {
      "provenance": [],
      "authorship_tag": "ABX9TyMO7FTG56yx0LvjXnOkxeR0",
      "include_colab_link": true
    },
    "kernelspec": {
      "name": "python3",
      "display_name": "Python 3"
    },
    "language_info": {
      "name": "python"
    }
  },
  "cells": [
    {
      "cell_type": "markdown",
      "metadata": {
        "id": "view-in-github",
        "colab_type": "text"
      },
      "source": [
        "<a href=\"https://colab.research.google.com/github/kobbii3/mc-202202-JairAcevedo/blob/main/PARCIAL3.ipynb\" target=\"_parent\"><img src=\"https://colab.research.google.com/assets/colab-badge.svg\" alt=\"Open In Colab\"/></a>"
      ]
    },
    {
      "cell_type": "markdown",
      "source": [
        "# PUNTO 1"
      ],
      "metadata": {
        "id": "VoIHcX5pHFEo"
      }
    },
    {
      "cell_type": "code",
      "execution_count": 1,
      "metadata": {
        "colab": {
          "base_uri": "https://localhost:8080/"
        },
        "id": "ak747xeSG_dN",
        "outputId": "a8ae5857-e25f-4fd2-a6c5-36f0df8ca161"
      },
      "outputs": [
        {
          "output_type": "stream",
          "name": "stdout",
          "text": [
            "Matriz aumentada:\n",
            "[[ 2.  2. -1.  8.]\n",
            " [ 5.  5.  3.  9.]\n",
            " [ 0.  4. -2. 14.]]\n",
            "solución de X: \n",
            "[[ 0.5]\n",
            " [ 2.5]\n",
            " [-2. ]]\n"
          ]
        }
      ],
      "source": [
        "import numpy as np\n",
        "\n",
        "#matrices A y B\n",
        "A = np.array([[2,2,-1],\n",
        "              [5,5,3],\n",
        "              [0,4,-2]])\n",
        "\n",
        "B = np.array([[8],\n",
        "              [9],\n",
        "              [14]])\n",
        "\n",
        "#PROCEDIMIENTO\n",
        "#evitar truncamiento en operaciones\n",
        "A = np.array(A,dtype=float) \n",
        "\n",
        "#hacer matriz aumentada\n",
        "AB = np.concatenate((A,B),axis=1)\n",
        "AB0 = np.copy(AB)\n",
        "\n",
        "#pivoteo parcial por filas\n",
        "tamaño = np.shape(AB)\n",
        "n = tamaño[0]\n",
        "m = tamaño[1]\n",
        "\n",
        "# Para cada fila en AB\n",
        "for i in range(0,n-1,1):\n",
        "    # columna desde diagonal i en adelante\n",
        "    columna = abs(AB[i:,i])\n",
        "    max = np.argmax(columna)\n",
        "    \n",
        "    # dondemax no está en diagonal\n",
        "    if (max !=0):\n",
        "        # intercambia filas\n",
        "        temporal = np.copy(AB[i,:])\n",
        "        AB[i,:] = AB[max+i,:]\n",
        "        AB[max+i,:] = temporal\n",
        "        \n",
        "AB1 = np.copy(AB)\n",
        "\n",
        "#eliminacion hacia adelante\n",
        "for i in range(0,n-1,1):\n",
        "    pivote = AB[i,i]\n",
        "    adelante = i + 1\n",
        "    for k in range(adelante,n,1):\n",
        "        factor = AB[k,i]/pivote\n",
        "        AB[k,:] = AB[k,:] - AB[i,:]*factor\n",
        "AB2 = np.copy(AB)\n",
        "\n",
        "#elimina hacia atras\n",
        "ultimafila = n-1\n",
        "ultimacolumna = m-1\n",
        "for i in range(ultimafila,0-1,-1):\n",
        "    pivote = AB[i,i]\n",
        "    atras = i-1 \n",
        "    for k in range(atras,0-1,-1):\n",
        "        factor = AB[k,i]/pivote\n",
        "        AB[k,:] = AB[k,:] - AB[i,:]*factor\n",
        "    # diagonal a unos\n",
        "    AB[i,:] = AB[i,:]/AB[i,i]\n",
        "X = np.copy(AB[:,ultimacolumna])\n",
        "X = np.transpose([X])\n",
        "\n",
        "\n",
        "# SALIDA\n",
        "print('Matriz aumentada:')\n",
        "print(AB0)\n",
        "print('solución de X: ')\n",
        "print(X)"
      ]
    },
    {
      "cell_type": "markdown",
      "source": [
        "# PUNTO 2"
      ],
      "metadata": {
        "id": "zZAlyENNHH4P"
      }
    },
    {
      "cell_type": "code",
      "source": [
        "def inversa(A):\n",
        "  #matriz identidad\n",
        "  tamaño = np.shape(A)\n",
        "  n = tamaño[0]\n",
        "  identidad = np.identity(n)\n",
        "\n",
        "  #matriz aumentada\n",
        "  AB = np.concatenate((A,identidad),axis=1)\n",
        "  AB0 = np.copy(AB)\n",
        "\n",
        "  #pivoteo parcial por filas\n",
        "  tamaño = np.shape(AB)\n",
        "  n = tamaño[0]\n",
        "  m = tamaño[1]\n",
        "\n",
        "  #para cada fila en AB\n",
        "  for i in range(0,n-1,1):\n",
        "      #columna desde diagonal i en adelante\n",
        "      columna = abs(AB[i:,i])\n",
        "      max = np.argmax(columna)\n",
        "      \n",
        "      #max no está en diagonal\n",
        "      if (max !=0):\n",
        "          #intercambia filas\n",
        "          temporal = np.copy(AB[i,:])\n",
        "          AB[i,:] = AB[max+i,:]\n",
        "          AB[max+i,:] = temporal\n",
        "  AB1 = np.copy(AB)\n",
        "\n",
        "  #eliminacion hacia adelante\n",
        "  for i in range(0,n-1,1):\n",
        "      pivote = AB[i,i]\n",
        "      adelante = i+1\n",
        "      for k in range(adelante,n,1):\n",
        "          factor = AB[k,i]/pivote\n",
        "          AB[k,:] = AB[k,:] - AB[i,:]*factor\n",
        "  AB2 = np.copy(AB)\n",
        "\n",
        "  #elimina hacia atras\n",
        "  ultfila = n-1\n",
        "  ultcolumna = m-1\n",
        "  for i in range(ultfila,0-1,-1):\n",
        "      pivote = AB[i,i]\n",
        "      atras = i-1 \n",
        "      for k in range(atras,0-1,-1):\n",
        "          factor = AB[k,i]/pivote\n",
        "          AB[k,:] = AB[k,:] - AB[i,:]*factor\n",
        "      #diagonal a unos\n",
        "      AB[i,:] = AB[i,:]/AB[i,i]\n",
        "\n",
        "  inversa = np.copy(AB[:,n:])\n",
        "  return inversa\n",
        "\n",
        "#matriz A\n",
        "A = np.array([[1,0,-1],\n",
        "              [2,0,2],\n",
        "              [8,2,-3]], dtype=float)\n",
        "x = inversa(A)\n",
        "print('Inversa de A: ')\n",
        "print(x)"
      ],
      "metadata": {
        "colab": {
          "base_uri": "https://localhost:8080/"
        },
        "id": "2X_6VbyMHYcF",
        "outputId": "25e62dad-b9a3-4a7d-d286-c12256e421e8"
      },
      "execution_count": 3,
      "outputs": [
        {
          "output_type": "stream",
          "name": "stdout",
          "text": [
            "Inversa de A: \n",
            "[[ 0.5    0.25   0.   ]\n",
            " [-2.75  -0.625  0.5  ]\n",
            " [-0.5    0.25  -0.   ]]\n"
          ]
        }
      ]
    },
    {
      "cell_type": "markdown",
      "source": [
        "# PUNTO 4"
      ],
      "metadata": {
        "id": "IC2wXWC9HjHD"
      }
    },
    {
      "cell_type": "code",
      "source": [
        "import operator\n",
        "import statistics\n",
        "import math\n",
        "import matplotlib.pyplot as plt\n",
        "import numpy as np\n",
        "x = [1,2,3,4,5,6,7,8]\n",
        "y = [7.5,8,8.5,9.2,9.9,10.5,11.5,12.2]\n",
        "\n",
        "plt.plot(x,y)\n",
        "plt.plot(x,y,'o')\n",
        "plt.xlabel('x')\n",
        "plt.ylabel('y')\n",
        "plt.show()"
      ],
      "metadata": {
        "colab": {
          "base_uri": "https://localhost:8080/",
          "height": 279
        },
        "id": "h2t1cYDcHkgj",
        "outputId": "48981d04-4575-41bf-ac90-f0d3dc3fa98f"
      },
      "execution_count": 6,
      "outputs": [
        {
          "output_type": "display_data",
          "data": {
            "text/plain": [
              "<Figure size 432x288 with 1 Axes>"
            ],
            "image/png": "[encoded data removed]"
          },
          "metadata": {
            "needs_background": "light"
          }
        }
      ]
    },
    {
      "cell_type": "markdown",
      "source": [
        "Modelo Exponencial"
      ],
      "metadata": {
        "id": "lJlXZip3Ompc"
      }
    },
    {
      "cell_type": "code",
      "source": [
        "x = [1,2,3,4,5,6,7,8]\n",
        "y = [7.5,8,8.5,9.2,9.9,10.5,11.5,12.2]\n",
        "lny = np.log(y)\n",
        "xlny = xy = list(map(operator.mul, x, lny))\n",
        "\n",
        "x2 = [1,2,3,4,5,6,7,8]\n",
        "for i in range(0,len(x)):\n",
        "\tx2[i]=x2[i]*x2[i]\n",
        "\n",
        "promlny = statistics.mean(lny)\n",
        "promx = statistics.mean(x)\n",
        "\n",
        "a1 = ((len(x))*(sum(xlny))-(sum(x))*(sum(lny)))/((len(x))*(sum(x2))-(sum(x))**2)\n",
        "a0 = promlny - (a1)*promx\n",
        "print(\"a1 = \", a1)\n",
        "print(\"a0 = \", a0)\n",
        "\n",
        "alfa = (math.e)**a0\n",
        "beta = a1\n",
        "\n",
        "print(\"y = (\",alfa,\") * (e ^\",beta,\"x)\")\n",
        "x = np.arange(0,10,1)\n",
        "y = (alfa)*((math.e)**(beta*x))\n",
        "plt.plot(x,y)\n",
        "plt.plot(x,y, 'o')\n",
        "plt.xlabel('x')\n",
        "plt.ylabel('y')\n",
        "plt.show()"
      ],
      "metadata": {
        "colab": {
          "base_uri": "https://localhost:8080/",
          "height": 331
        },
        "id": "Wu41QK6rOqV5",
        "outputId": "d8d51704-66bf-40cb-eaff-975de32fdca3"
      },
      "execution_count": 13,
      "outputs": [
        {
          "output_type": "stream",
          "name": "stdout",
          "text": [
            "a1 =  0.07056567310610296\n",
            "a0 =  1.937617872420762\n",
            "y = ( 6.94219406619181 ) * (e ^ 0.07056567310610296 x)\n"
          ]
        },
        {
          "output_type": "display_data",
          "data": {
            "text/plain": [
              "<Figure size 432x288 with 1 Axes>"
            ],
            "image/png": "[encoded data removed]"
          },
          "metadata": {
            "needs_background": "light"
          }
        }
      ]
    },
    {
      "cell_type": "markdown",
      "source": [
        "Ecuación de potencias"
      ],
      "metadata": {
        "id": "5TYmxoNOO3dq"
      }
    },
    {
      "cell_type": "code",
      "source": [
        "x = [1,2,3,4,5,6,7,8]\n",
        "y = [7.5,8,8.5,9.2,9.9,10.5,11.5,12.2]\n",
        "lnx = np.log10(x)\n",
        "sumlnx = sum(lnx)\n",
        "promx = statistics.mean(lnx)\n",
        "lny = np.log10(y)\n",
        "\n",
        "xy = list(map(operator.mul, lnx, lny))\n",
        "\n",
        "for i in range(0,len(x)):\n",
        "\tlnx[i]=lnx[i]*lnx[i]\n",
        "sumlnx2 = sum(lnx)\n",
        "\n",
        "promy = statistics.mean(lny)\n",
        "#operaciones\n",
        "a1 = ((len(x))*(sum(xy))-(sumlnx)*(sum(lny)))/((len(x))*(sumlnx2)-(sumlnx)**2)\n",
        "a0 = promy - (a1 * promx)\n",
        "print(\"a1 = \", a1)\n",
        "print(\"a0 = \", a0)\n",
        "\n",
        "alfa = 10**(a0)\n",
        "beta = a1\n",
        "\n",
        "print(\"y = (\",alfa,\") * (x ^\",beta,\")\")\n",
        "x = np.arange(0,10,1)\n",
        "y = (alfa)*(x**beta)\n",
        "x1 = np.arange(0,10,0.1)\n",
        "y1 = (alfa)*(x1**beta)\n",
        "plt.plot(x1,y1)\n",
        "plt.plot(x,y, 'o')\n",
        "plt.xlabel('x')\n",
        "plt.ylabel('y')\n",
        "plt.show()"
      ],
      "metadata": {
        "colab": {
          "base_uri": "https://localhost:8080/",
          "height": 331
        },
        "id": "VYNFjkBxO6TC",
        "outputId": "c0afff72-4173-4461-b78a-aacb818da909"
      },
      "execution_count": 15,
      "outputs": [
        {
          "output_type": "stream",
          "name": "stdout",
          "text": [
            "a1 =  0.2341051343541817\n",
            "a0 =  0.8446330209036337\n",
            "y = ( 6.992508788803655 ) * (x ^ 0.2341051343541817 )\n"
          ]
        },
        {
          "output_type": "display_data",
          "data": {
            "text/plain": [
              "<Figure size 432x288 with 1 Axes>"
            ],
            "image/png": "[encoded data removed]"
          },
          "metadata": {
            "needs_background": "light"
          }
        }
      ]
    },
    {
      "cell_type": "markdown",
      "source": [
        "Razón de crecimiento"
      ],
      "metadata": {
        "id": "FmxDg7jgPCLa"
      }
    },
    {
      "cell_type": "code",
      "source": [
        "x = [1,2,3,4,5,6,7,8]\n",
        "y = [7.5,8,8.5,9.2,9.9,10.5,11.5,12.2]\n",
        "\n",
        "x1 = [1,2,3,4,5,6,7,8]\n",
        "for i in range(0,len(x)):\n",
        "\tx1[i]=1/x1[i]\n",
        "sumx1 = sum(x1)\n",
        "promx1 = statistics.mean(x1)\n",
        "\n",
        "y1 = [7.5,8,8.5,9.2,9.9,10.5,11.5,12.2]\n",
        "for i in range(0,len(x)):\n",
        "\ty1[i]=1/y1[i]\n",
        "\n",
        "x1y1 = list(map(operator.mul, x1, y1))\n",
        "\n",
        "x2 = x1\n",
        "for i in range(0,len(x)):\n",
        "\tx2[i]=x2[i]*x2[i]\n",
        "sumx2 = sum(x2)\n",
        "\n",
        "promy1 = statistics.mean(y1)\n",
        "#operaciones\n",
        "a1 = ((len(x))*(sum(x1y1))-(sumx1)*(sum(y1)))/((len(x))*(sumx2)-(sumx1)**2)\n",
        "a0 = promy1 - (a1)*promx1\n",
        "print(\"a1 = \", a1)\n",
        "print(\"a0 = \", a0)\n",
        "\n",
        "alfa = 1/a0\n",
        "beta = a1/a0\n",
        "\n",
        "print(\"y = (\",alfa,\") * (x /\",beta,\")\")\n",
        "x = np.arange(0,10,1)\n",
        "y = (alfa)*(x/(beta))\n",
        "plt.plot(x,y)\n",
        "plt.plot(x,y, 'o')\n",
        "plt.xlabel('x')\n",
        "plt.ylabel('y')\n",
        "plt.show()"
      ],
      "metadata": {
        "colab": {
          "base_uri": "https://localhost:8080/",
          "height": 333
        },
        "id": "V_4BkyejPGgq",
        "outputId": "adb89391-8cf4-4c98-a67d-c5c26f04a1f4"
      },
      "execution_count": 11,
      "outputs": [
        {
          "output_type": "stream",
          "name": "stdout",
          "text": [
            "a1 =  0.053379735178288236\n",
            "a0 =  0.0880961851118404\n",
            "y = ( 11.351229326564754 ) * (x / 0.6059256154000456 )\n"
          ]
        },
        {
          "output_type": "display_data",
          "data": {
            "text/plain": [
              "<Figure size 432x288 with 1 Axes>"
            ],
            "image/png": "[encoded data removed]"
          },
          "metadata": {
            "needs_background": "light"
          }
        }
      ]
    },
    {
      "cell_type": "markdown",
      "source": [
        "RTA// La gráfica hecha a partir del modelo exponencial es la que mejor se ajusta a los puntos."
      ],
      "metadata": {
        "id": "2fHSnfMgP076"
      }
    }
  ]
}
