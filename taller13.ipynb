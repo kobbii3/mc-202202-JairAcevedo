{
  "nbformat": 4,
  "nbformat_minor": 0,
  "metadata": {
    "colab": {
      "provenance": [],
      "authorship_tag": "ABX9TyNENSTqH/kWZGA57U1WLKoa",
      "include_colab_link": true
    },
    "kernelspec": {
      "name": "python3",
      "display_name": "Python 3"
    },
    "language_info": {
      "name": "python"
    }
  },
  "cells": [
    {
      "cell_type": "markdown",
      "metadata": {
        "id": "view-in-github",
        "colab_type": "text"
      },
      "source": [
        "<a href=\"https://colab.research.google.com/github/kobbii3/mc-202202-JairAcevedo/blob/main/taller13.ipynb\" target=\"_parent\"><img src=\"https://colab.research.google.com/assets/colab-badge.svg\" alt=\"Open In Colab\"/></a>"
      ]
    },
    {
      "cell_type": "code",
      "source": [
        "import numpy as np\n",
        "vector1 = []\n",
        "vector2 = []\n",
        "\n",
        "#VECTOR1\n",
        "tamaño = int(input(\"Por favor, Indique la longitud del vector 1 y el vector 2: \"))\n",
        "\n",
        "for i in range(tamaño):\n",
        "    print(\"Ingrese el valor \", i + 1, \" del vector 1:\")\n",
        "    vector = int(input())\n",
        "    vector1.append(vector)\n",
        "\n",
        "print(\"Vector 1: \", vector1)\n",
        "\n",
        "#VECTOR2\n",
        "print(\"------------------\")\n",
        "for i in range(tamaño):\n",
        "    print(\"Ingrese el valor \", i + 1, \" del vector 2:\")\n",
        "    vector = int(input())\n",
        "    vector2.append(vector)\n",
        "\n",
        "print(\"Vector 2: \", vector2)\n",
        "\n",
        "#PRODUCTO ESCALAR\n",
        "print(\"------------------\")\n",
        "producto = np.dot(vector1,vector2)\n",
        "print(\"Producto escalar: \", producto)"
      ],
      "metadata": {
        "colab": {
          "base_uri": "https://localhost:8080/"
        },
        "id": "QguIKxwAvAZO",
        "outputId": "80e22d29-f78d-4d3d-9864-c071183e9314"
      },
      "execution_count": null,
      "outputs": [
        {
          "output_type": "stream",
          "name": "stdout",
          "text": [
            "Por favor, Indique la longitud del vector 1 y el vector 2: 2\n",
            "Ingrese el valor  1  del vector 1:\n",
            "1\n",
            "Ingrese el valor  2  del vector 1:\n",
            "2\n",
            "Vector 1:  [1, 2]\n",
            "------------------\n",
            "Ingrese el valor  1  del vector 2:\n",
            "3\n",
            "Ingrese el valor  2  del vector 2:\n",
            "4\n",
            "Vector 2:  [3, 4]\n",
            "------------------\n",
            "Producto escalar:  11\n"
          ]
        }
      ]
    },
    {
      "cell_type": "code",
      "source": [
        "import numpy as np\n",
        "#MATRIZ A\n",
        "filas = int(input(\"Introduce el número de filas de la matriz A: \"))\n",
        "columnas = int(input(\"Introduce el número de columnas de la matriz A: \"))\n",
        "\n",
        "x = filas*columnas\n",
        "valores = list(map(int, input(f\"Introduce los {x} valores de la matriz A separados por un espacio:\").split()))\n",
        "matrizA = np.array(valores).reshape(filas,columnas)\n",
        "print(\"Matriz A:\")\n",
        "print(matrizA)\n",
        "\n",
        "#MATRIZ B\n",
        "print(\"--------------------\")\n",
        "filas2 = int(input(\"Introduce el número de filas de la matriz B: \"))\n",
        "columnas2 = int(input(\"Introduce el número de columnas de la matriz B: \"))\n",
        "\n",
        "x2 = filas2*columnas2\n",
        "valores2 = list(map(int, input(f\"Introduce los {x2} valores de la matriz B separados por un espacio:\").split()))\n",
        "matrizB = np.array(valores2).reshape(filas2,columnas2)\n",
        "print(\"Matriz B:\")\n",
        "print(matrizB)\n",
        "\n",
        "#OPERACIONES\n",
        "print(\"--------------------\")\n",
        "print(\"OPERACIONES\")\n",
        "print(\"3A: \\n\", 3*matrizA)\n",
        "print(\"4B: \\n\", 4*matrizB)\n",
        "#suma\n",
        "if filas==filas2 and columnas==columnas2:\n",
        "    print(\"A+B: \\n\", matrizA + matrizB)\n",
        "else:\n",
        "  print(\"A+B: La suma no se pudo realizar debido a que el numero de filas y columnas no coinciden.\")\n",
        "#producto\n",
        "if filas==columnas2 and filas2==columnas:\n",
        "  print(\"AxB: \\n\", np.dot(matrizA,matrizB))\n",
        "else:\n",
        "  print(\"AxB: La multiplicación no se pudo realizar debido a que el numero de filas y columnas no coinciden.\")"
      ],
      "metadata": {
        "colab": {
          "base_uri": "https://localhost:8080/"
        },
        "id": "LDLnP-QzzuKp",
        "outputId": "bc243593-15a8-4ad6-ecd8-39486f6c55df"
      },
      "execution_count": 16,
      "outputs": [
        {
          "output_type": "stream",
          "name": "stdout",
          "text": [
            "Introduce el número de filas de la matriz A: 2\n",
            "Introduce el número de columnas de la matriz A: 3\n",
            "Introduce los 6 valores de la matriz A separados por un espacio:1 2 3 4 5 6\n",
            "Matriz A:\n",
            "[[1 2 3]\n",
            " [4 5 6]]\n",
            "--------------------\n",
            "Introduce el número de filas de la matriz B: 3\n",
            "Introduce el número de columnas de la matriz B: 2\n",
            "Introduce los 6 valores de la matriz B separados por un espacio:1 2 3 4 5 6\n",
            "Matriz B:\n",
            "[[1 2]\n",
            " [3 4]\n",
            " [5 6]]\n",
            "--------------------\n",
            "OPERACIONES\n",
            "3A: \n",
            " [[ 3  6  9]\n",
            " [12 15 18]]\n",
            "4B: \n",
            " [[ 4  8]\n",
            " [12 16]\n",
            " [20 24]]\n",
            "A+B: La suma no se pudo realizar debido a que el numero de filas y columnas no coinciden.\n",
            "AxB: \n",
            " [[22 28]\n",
            " [49 64]]\n"
          ]
        }
      ]
    }
  ]
}