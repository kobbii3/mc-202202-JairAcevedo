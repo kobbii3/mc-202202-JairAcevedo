{
  "nbformat": 4,
  "nbformat_minor": 0,
  "metadata": {
    "colab": {
      "provenance": [],
      "authorship_tag": "ABX9TyMo4bdYwm5S7giKO4xX3UXw",
      "include_colab_link": true
    },
    "kernelspec": {
      "name": "python3",
      "display_name": "Python 3"
    },
    "language_info": {
      "name": "python"
    }
  },
  "cells": [
    {
      "cell_type": "markdown",
      "metadata": {
        "id": "view-in-github",
        "colab_type": "text"
      },
      "source": [
        "<a href=\"https://colab.research.google.com/github/kobbii3/mc-202202-JairAcevedo/blob/main/taller14.ipynb\" target=\"_parent\"><img src=\"https://colab.research.google.com/assets/colab-badge.svg\" alt=\"Open In Colab\"/></a>"
      ]
    },
    {
      "cell_type": "code",
      "source": [
        "import numpy as np\n",
        "\n",
        "#matrices A y B\n",
        "A = np.array([[6,16.5,14],\n",
        "              [16.5,76.25,48],\n",
        "              [14,48,54]])\n",
        "\n",
        "B = np.array([[27.5],\n",
        "              [120.5],\n",
        "              [50.5]])\n",
        "\n",
        "#PROCEDIMIENTO\n",
        "#evitar truncamiento en operaciones\n",
        "A = np.array(A,dtype=float) \n",
        "\n",
        "#hacer matriz aumentada\n",
        "AB = np.concatenate((A,B),axis=1)\n",
        "AB0 = np.copy(AB)\n",
        "\n",
        "#pivoteo parcial por filas\n",
        "tamaño = np.shape(AB)\n",
        "n = tamaño[0]\n",
        "m = tamaño[1]\n",
        "\n",
        "# Para cada fila en AB\n",
        "for i in range(0,n-1,1):\n",
        "    # columna desde diagonal i en adelante\n",
        "    columna = abs(AB[i:,i])\n",
        "    max = np.argmax(columna)\n",
        "    \n",
        "    # dondemax no está en diagonal\n",
        "    if (max !=0):\n",
        "        # intercambia filas\n",
        "        temporal = np.copy(AB[i,:])\n",
        "        AB[i,:] = AB[max+i,:]\n",
        "        AB[max+i,:] = temporal\n",
        "        \n",
        "AB1 = np.copy(AB)\n",
        "\n",
        "#eliminacion hacia adelante\n",
        "for i in range(0,n-1,1):\n",
        "    pivote = AB[i,i]\n",
        "    adelante = i + 1\n",
        "    for k in range(adelante,n,1):\n",
        "        factor = AB[k,i]/pivote\n",
        "        AB[k,:] = AB[k,:] - AB[i,:]*factor\n",
        "AB2 = np.copy(AB)\n",
        "\n",
        "#elimina hacia atras\n",
        "ultimafila = n-1\n",
        "ultimacolumna = m-1\n",
        "for i in range(ultimafila,0-1,-1):\n",
        "    pivote = AB[i,i]\n",
        "    atras = i-1 \n",
        "    for k in range(atras,0-1,-1):\n",
        "        factor = AB[k,i]/pivote\n",
        "        AB[k,:] = AB[k,:] - AB[i,:]*factor\n",
        "    # diagonal a unos\n",
        "    AB[i,:] = AB[i,:]/AB[i,i]\n",
        "X = np.copy(AB[:,ultimacolumna])\n",
        "X = np.transpose([X])\n",
        "\n",
        "\n",
        "# SALIDA\n",
        "print('Matriz aumentada:')\n",
        "print(AB0)\n",
        "print('solución de X: ')\n",
        "print(X)"
      ],
      "metadata": {
        "colab": {
          "base_uri": "https://localhost:8080/"
        },
        "id": "oLlGirvr4Nqy",
        "outputId": "a61a5d94-afb5-4ad8-ab3d-4a7b9bce7752"
      },
      "execution_count": 1,
      "outputs": [
        {
          "output_type": "stream",
          "name": "stdout",
          "text": [
            "Matriz aumentada:\n",
            "[[  6.    16.5   14.    27.5 ]\n",
            " [ 16.5   76.25  48.   120.5 ]\n",
            " [ 14.    48.    54.    50.5 ]]\n",
            "solución de X: \n",
            "[[ 2.80574696]\n",
            " [ 1.91262278]\n",
            " [-1.49233983]]\n"
          ]
        }
      ]
    }
  ]
}