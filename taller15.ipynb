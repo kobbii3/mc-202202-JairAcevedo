{
  "nbformat": 4,
  "nbformat_minor": 0,
  "metadata": {
    "colab": {
      "provenance": [],
      "authorship_tag": "ABX9TyNNhd7eY0qFZpblSp7liB1K",
      "include_colab_link": true
    },
    "kernelspec": {
      "name": "python3",
      "display_name": "Python 3"
    },
    "language_info": {
      "name": "python"
    }
  },
  "cells": [
    {
      "cell_type": "markdown",
      "metadata": {
        "id": "view-in-github",
        "colab_type": "text"
      },
      "source": [
        "<a href=\"https://colab.research.google.com/github/kobbii3/mc-202202-JairAcevedo/blob/main/taller15.ipynb\" target=\"_parent\"><img src=\"https://colab.research.google.com/assets/colab-badge.svg\" alt=\"Open In Colab\"/></a>"
      ]
    },
    {
      "cell_type": "code",
      "execution_count": 5,
      "metadata": {
        "colab": {
          "base_uri": "https://localhost:8080/"
        },
        "id": "iCW9BvJBEkHW",
        "outputId": "7c8b1559-54b4-4ddc-913f-b7bc645fb6c2"
      },
      "outputs": [
        {
          "output_type": "stream",
          "name": "stdout",
          "text": [
            "Inversa de A: \n",
            "[[ 1.  -2.   4. ]\n",
            " [-1.5  4.  -7.5]\n",
            " [ 0.5 -1.   1.5]]\n",
            "Inversa de B: \n",
            "[[ 3.33333333e-01  6.66666667e-01 -6.66666667e-01 -1.38777878e-17]\n",
            " [-6.66666667e-02 -1.33333333e-01  3.33333333e-01  2.00000000e-01]\n",
            " [ 2.66666667e-01  5.33333333e-01 -1.33333333e+00  2.00000000e-01]\n",
            " [ 2.00000000e-01 -1.00000000e-01  0.00000000e+00 -1.00000000e-01]]\n"
          ]
        }
      ],
      "source": [
        "import numpy as np\n",
        "\n",
        "def inversa(A):\n",
        "  #matriz identidad\n",
        "  tamaño = np.shape(A)\n",
        "  n = tamaño[0]\n",
        "  identidad = np.identity(n)\n",
        "\n",
        "  #matriz aumentada\n",
        "  AB = np.concatenate((A,identidad),axis=1)\n",
        "  AB0 = np.copy(AB)\n",
        "\n",
        "  #pivoteo parcial por filas\n",
        "  tamaño = np.shape(AB)\n",
        "  n = tamaño[0]\n",
        "  m = tamaño[1]\n",
        "\n",
        "  #para cada fila en AB\n",
        "  for i in range(0,n-1,1):\n",
        "      #columna desde diagonal i en adelante\n",
        "      columna = abs(AB[i:,i])\n",
        "      max = np.argmax(columna)\n",
        "      \n",
        "      #max no está en diagonal\n",
        "      if (max !=0):\n",
        "          #intercambia filas\n",
        "          temporal = np.copy(AB[i,:])\n",
        "          AB[i,:] = AB[max+i,:]\n",
        "          AB[max+i,:] = temporal\n",
        "  AB1 = np.copy(AB)\n",
        "\n",
        "  #eliminacion hacia adelante\n",
        "  for i in range(0,n-1,1):\n",
        "      pivote = AB[i,i]\n",
        "      adelante = i+1\n",
        "      for k in range(adelante,n,1):\n",
        "          factor = AB[k,i]/pivote\n",
        "          AB[k,:] = AB[k,:] - AB[i,:]*factor\n",
        "  AB2 = np.copy(AB)\n",
        "\n",
        "  #elimina hacia atras\n",
        "  ultfila = n-1\n",
        "  ultcolumna = m-1\n",
        "  for i in range(ultfila,0-1,-1):\n",
        "      pivote = AB[i,i]\n",
        "      atras = i-1 \n",
        "      for k in range(atras,0-1,-1):\n",
        "          factor = AB[k,i]/pivote\n",
        "          AB[k,:] = AB[k,:] - AB[i,:]*factor\n",
        "      #diagonal a unos\n",
        "      AB[i,:] = AB[i,:]/AB[i,i]\n",
        "\n",
        "  inversa = np.copy(AB[:,n:])\n",
        "  return inversa\n",
        "\n",
        "#matrices A y B\n",
        "A = np.array([[3,2,2],\n",
        "              [3,1,-3],\n",
        "              [1,0,-2]], dtype=float)\n",
        "x = inversa(A)\n",
        "print('Inversa de A: ')\n",
        "print(x)\n",
        "\n",
        "B = np.array([[1,2,0,4],\n",
        "              [2,0,-1,-2],\n",
        "              [1,1,-1,0],\n",
        "              [0,4,1,0]], dtype=float)\n",
        "y = inversa(B)\n",
        "print('Inversa de B: ')\n",
        "print(y)"
      ]
    }
  ]
}