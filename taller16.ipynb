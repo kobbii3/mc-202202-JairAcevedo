{
  "nbformat": 4,
  "nbformat_minor": 0,
  "metadata": {
    "colab": {
      "provenance": [],
      "authorship_tag": "ABX9TyPC3tBORMJDP2B3rfowHzot",
      "include_colab_link": true
    },
    "kernelspec": {
      "name": "python3",
      "display_name": "Python 3"
    },
    "language_info": {
      "name": "python"
    }
  },
  "cells": [
    {
      "cell_type": "markdown",
      "metadata": {
        "id": "view-in-github",
        "colab_type": "text"
      },
      "source": [
        "<a href=\"https://colab.research.google.com/github/kobbii3/mc-202202-JairAcevedo/blob/main/taller16.ipynb\" target=\"_parent\"><img src=\"https://colab.research.google.com/assets/colab-badge.svg\" alt=\"Open In Colab\"/></a>"
      ]
    },
    {
      "cell_type": "code",
      "execution_count": 15,
      "metadata": {
        "colab": {
          "base_uri": "https://localhost:8080/"
        },
        "id": "ttdbZJvu3UZf",
        "outputId": "0ecbe300-8bf1-4257-80d1-6e544ca87efb"
      },
      "outputs": [
        {
          "output_type": "stream",
          "name": "stdout",
          "text": [
            "a1 =  -1.6595238095238096\n",
            "a0 =  11.242857142857144\n"
          ]
        }
      ],
      "source": [
        "import statistics\n",
        "\n",
        "x = [1,2,3,4,5,6,7,8]\n",
        "y = [7,5,6,3,4,2.6,2,0.6]\n",
        "xy = [8,7,9,7,9,8.6,9,8.6]\n",
        "x2 = [1,4,9,16,25,36,49,64]\n",
        "\n",
        "promy = statistics.mean(y)\n",
        "promx = statistics.mean(x)\n",
        "\n",
        "a1 = ((len(x))*(sum(xy))-(sum(x))*(sum(y)))/((len(x))*(sum(x2))-(sum(x))**2)\n",
        "a0 = promy - (a1)*promx\n",
        "print(\"a1 = \", a1)\n",
        "print(\"a0 = \", a0)"
      ]
    }
  ]
}