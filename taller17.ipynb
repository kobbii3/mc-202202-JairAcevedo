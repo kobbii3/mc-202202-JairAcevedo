{
  "nbformat": 4,
  "nbformat_minor": 0,
  "metadata": {
    "colab": {
      "provenance": [],
      "authorship_tag": "ABX9TyMiXpFPhqo9FV/SqZFBhdmf",
      "include_colab_link": true
    },
    "kernelspec": {
      "name": "python3",
      "display_name": "Python 3"
    },
    "language_info": {
      "name": "python"
    }
  },
  "cells": [
    {
      "cell_type": "markdown",
      "metadata": {
        "id": "view-in-github",
        "colab_type": "text"
      },
      "source": [
        "<a href=\"https://colab.research.google.com/github/kobbii3/mc-202202-JairAcevedo/blob/main/taller17.ipynb\" target=\"_parent\"><img src=\"https://colab.research.google.com/assets/colab-badge.svg\" alt=\"Open In Colab\"/></a>"
      ]
    },
    {
      "cell_type": "code",
      "execution_count": 30,
      "metadata": {
        "colab": {
          "base_uri": "https://localhost:8080/",
          "height": 314
        },
        "id": "4AGVHvTW6buM",
        "outputId": "f558ba13-8f23-4e33-aab3-b8b8799eaa0c"
      },
      "outputs": [
        {
          "output_type": "stream",
          "name": "stdout",
          "text": [
            "a1 =  0.3366264532798466\n",
            "a0 =  1.1533466247759885\n"
          ]
        },
        {
          "output_type": "display_data",
          "data": {
            "text/plain": [
              "<Figure size 432x288 with 1 Axes>"
            ],
            "image/png": "[encoded data removed]"
          },
          "metadata": {
            "needs_background": "light"
          }
        }
      ],
      "source": [
        "import statistics\n",
        "import math\n",
        "import matplotlib.pyplot as plt\n",
        "import numpy as np\n",
        "\n",
        "x = [1,2,3,4,5,6]\n",
        "y = [4.5,6,9,12,17,24]\n",
        "lny = np.log(y)\n",
        "xlny = x * lny\n",
        "\n",
        "x2 = [1,2,3,4,5,6]\n",
        "for i in range(0,len(x)):\n",
        "\tx2[i]=x2[i]*x2[i]\n",
        "\n",
        "promlny = statistics.mean(lny)\n",
        "promx = statistics.mean(x)\n",
        "\n",
        "a1 = ((len(x))*(sum(xlny))-(sum(x))*(sum(lny)))/((len(x))*(sum(x2))-(sum(x))**2)\n",
        "a0 = promlny - (a1)*promx\n",
        "print(\"a1 = \", a1)\n",
        "print(\"a0 = \", a0)\n",
        "\n",
        "alfa = (math.e)**a0\n",
        "beta = a1\n",
        "\n",
        "x = np.arange(0,10,0.1)\n",
        "y = (alfa)*((math.e)**(beta*x))\n",
        "plt.plot(x,y)\n",
        "plt.xlabel('x')\n",
        "plt.ylabel('y')\n",
        "plt.show()"
      ]
    },
    {
      "cell_type": "markdown",
      "source": [
        "EJEMPLO"
      ],
      "metadata": {
        "id": "MI4uH4tlDjQA"
      }
    },
    {
      "cell_type": "code",
      "source": [
        "import statistics\n",
        "import math\n",
        "import matplotlib.pyplot as plt\n",
        "import numpy as np\n",
        "\n",
        "x = [1,2,3,4,5]\n",
        "y = [5,6.6,8.5,10.8,14.2]\n",
        "lny = np.log(y)\n",
        "xlny = x * lny\n",
        "\n",
        "x2 = [1,2,3,4,5]\n",
        "for i in range(0,len(x)):\n",
        "\tx2[i]=x2[i]*x2[i]\n",
        "  \n",
        "promlny = statistics.mean(lny)\n",
        "promx = statistics.mean(x)\n",
        "\n",
        "a1 = ((len(x))*(sum(xlny))-(sum(x))*(sum(lny)))/((len(x))*(sum(x2))-(sum(x))**2)\n",
        "a0 = promlny - (a1)*promx\n",
        "print(\"a1 = \", a1)\n",
        "print(\"a0 = \", a0)\n",
        "\n",
        "alfa = (math.e)**a0\n",
        "beta = a1\n",
        "\n",
        "x = np.arange(0,10,0.1)\n",
        "y = (alfa)*((math.e)**(beta*x))\n",
        "plt.plot(x,y)\n",
        "plt.xlabel('x')\n",
        "plt.ylabel('y')\n",
        "plt.show()"
      ],
      "metadata": {
        "colab": {
          "base_uri": "https://localhost:8080/",
          "height": 314
        },
        "id": "ZfxPgWC-Dln-",
        "outputId": "fdf19a80-6db6-4f07-de07-e6c431921663"
      },
      "execution_count": 28,
      "outputs": [
        {
          "output_type": "stream",
          "name": "stdout",
          "text": [
            "a1 =  0.25800845894440216\n",
            "a0 =  1.3598469879068213\n"
          ]
        },
        {
          "output_type": "display_data",
          "data": {
            "text/plain": [
              "<Figure size 432x288 with 1 Axes>"
            ],
            "image/png": "[encoded data removed]"
          },
          "metadata": {
            "needs_background": "light"
          }
        }
      ]
    }
  ]
}