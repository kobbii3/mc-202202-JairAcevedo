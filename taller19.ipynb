{
  "nbformat": 4,
  "nbformat_minor": 0,
  "metadata": {
    "colab": {
      "provenance": [],
      "authorship_tag": "ABX9TyOl3lmlYTpS20ZyNy7dFqny",
      "include_colab_link": true
    },
    "kernelspec": {
      "name": "python3",
      "display_name": "Python 3"
    },
    "language_info": {
      "name": "python"
    }
  },
  "cells": [
    {
      "cell_type": "markdown",
      "metadata": {
        "id": "view-in-github",
        "colab_type": "text"
      },
      "source": [
        "<a href=\"https://colab.research.google.com/github/kobbii3/mc-202202-JairAcevedo/blob/main/taller19.ipynb\" target=\"_parent\"><img src=\"https://colab.research.google.com/assets/colab-badge.svg\" alt=\"Open In Colab\"/></a>"
      ]
    },
    {
      "cell_type": "code",
      "execution_count": null,
      "metadata": {
        "colab": {
          "base_uri": "https://localhost:8080/"
        },
        "id": "4BWf8ec2BaZ7",
        "outputId": "eaf806a6-289c-436b-dc44-3f1509d63273"
      },
      "outputs": [
        {
          "output_type": "stream",
          "name": "stdout",
          "text": [
            "a1 =  2.171428571428572\n",
            "a0 =  -3.828571428571432\n",
            "Desviación estandar:  145.37714285714284\n",
            "error estándar de la estimación:  1.6342757242451909\n",
            "coeficiente de correlación:  95.29640094389895 %\n"
          ]
        }
      ],
      "source": [
        "import operator\n",
        "import statistics\n",
        "import math\n",
        "import matplotlib.pyplot as plt\n",
        "import numpy as np\n",
        "x = [1,2,3,4,5,6,7]\n",
        "y = [0.2,0.6,1.6,3.5,5.5,9.1,13.5]\n",
        "xy = list(map(operator.mul, x, y))\n",
        "\n",
        "x2 = [1,2,3,4,5,6,7]\n",
        "for i in range(0,len(x)):\n",
        "\tx2[i]=x2[i]*x2[i]\n",
        "\n",
        "promy = statistics.mean(y)\n",
        "promx = statistics.mean(x)\n",
        "\n",
        "a1 = ((len(x))*(sum(xy))-(sum(x))*(sum(y)))/((len(x))*(sum(x2))-(sum(x))**2)\n",
        "a0 = promy - (a1)*promx\n",
        "print(\"a1 = \", a1)\n",
        "print(\"a0 = \", a0)\n",
        "\n",
        "#desviación estandar\n",
        "ypy = [0.2,0.6,1.6,3.5,5.5,9.1,13.5]\n",
        "for i in range(0,len(x)):\n",
        "\typy[i]=(ypy[i]-promy)**2\n",
        "\n",
        "yax = [0.2,0.6,1.6,3.5,5.5,9.1,13.5]\n",
        "for i in range(0,len(x)):\n",
        "\tyax[i]=(yax[i]-a0-a1*x[i])**2\n",
        "\n",
        "st = sum(ypy)\n",
        "print(\"Desviación estandar: \", st)\n",
        "\n",
        "#error estandar\n",
        "sr = sum(yax)\n",
        "syx = math.sqrt(sr/(len(yax)-2))\n",
        "print(\"error estándar de la estimación: \", syx)\n",
        "\n",
        "#coeficiente de correlación\n",
        "r = (math.sqrt((st-sr)/st))*100\n",
        "print(\"coeficiente de correlación: \",r,\"%\")"
      ]
    }
  ]
}