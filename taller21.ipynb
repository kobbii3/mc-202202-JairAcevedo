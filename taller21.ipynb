{
  "nbformat": 4,
  "nbformat_minor": 0,
  "metadata": {
    "colab": {
      "provenance": [],
      "authorship_tag": "ABX9TyP8htieoOrcB1p92IrKFORI",
      "include_colab_link": true
    },
    "kernelspec": {
      "name": "python3",
      "display_name": "Python 3"
    },
    "language_info": {
      "name": "python"
    }
  },
  "cells": [
    {
      "cell_type": "markdown",
      "metadata": {
        "id": "view-in-github",
        "colab_type": "text"
      },
      "source": [
        "<a href=\"https://colab.research.google.com/github/kobbii3/mc-202202-JairAcevedo/blob/main/taller21.ipynb\" target=\"_parent\"><img src=\"https://colab.research.google.com/assets/colab-badge.svg\" alt=\"Open In Colab\"/></a>"
      ]
    },
    {
      "cell_type": "code",
      "execution_count": 51,
      "metadata": {
        "id": "s9N6PhKzX5am"
      },
      "outputs": [],
      "source": [
        "import numpy as np\n",
        "import matplotlib.pyplot as plt\n",
        "import statistics"
      ]
    },
    {
      "cell_type": "code",
      "source": [
        "x1 = [1,1,2,3,1,2,3,3]\n",
        "x2 = [-1,0,0,1,1,2,2,0]\n",
        "y = [1.6,3,1.1,1.2,3.2,3.3,1.7,0.1]\n",
        "\n",
        "x12 = [1,1,2,3,1,2,3,3]\n",
        "for i in range(0,len(x12)):\n",
        "\tx12[i]=x12[i]*x12[i]\n",
        "\n",
        "x22 = [-1,0,0,1,1,2,2,0]\n",
        "for i in range(0,len(x22)):\n",
        "\tx22[i]=x22[i]*x22[i]\n",
        "\n",
        "x1y = [1,1,2,3,1,2,3,3]\n",
        "for i in range(0,len(x1y)):\n",
        "\tx1y[i]=x1y[i]*y[i]\n",
        "\n",
        "x2y = [-1,0,0,1,1,2,2,0]\n",
        "for i in range(0,len(x2y)):\n",
        "\tx2y[i]=x2y[i]*y[i]\n",
        "\n",
        "x1x2= [1,1,2,3,1,2,3,3]\n",
        "for i in range(0,len(x1x2)):\n",
        "\tx1x2[i]=x1[i]*x2[i]\n",
        "\n",
        "#obtener a0, a1, a0 GAUSS JORDAN\n",
        "n = len(x1)\n",
        "x1i = sum(x1)\n",
        "x2i = sum(x2)\n",
        "x1i2 = sum(x12)\n",
        "x1ix2i = sum(x1x2)\n",
        "x2i2 = sum(x22)\n",
        "yi = sum(y)\n",
        "x1iyi = sum(x1y)\n",
        "x2iyi = sum(x2y)\n",
        "yprom = statistics.mean(y)\n",
        "#matrices A y B\n",
        "A = np.array([[n,x1i,x2i],\n",
        "              [x1i,x1i2,x1ix2i],\n",
        "              [x2i,x1ix2i,x2i2]])\n",
        "\n",
        "B = np.array([[yi],\n",
        "              [x1iyi],\n",
        "              [x2iyi]])\n",
        "\n",
        "#PROCEDIMIENTO\n",
        "#evitar truncamiento en operaciones\n",
        "A = np.array(A,dtype=float) \n",
        "\n",
        "#hacer matriz aumentada\n",
        "AB = np.concatenate((A,B),axis=1)\n",
        "AB0 = np.copy(AB)\n",
        "\n",
        "#pivoteo parcial por filas\n",
        "tamaño = np.shape(AB)\n",
        "n = tamaño[0]\n",
        "m = tamaño[1]\n",
        "\n",
        "# Para cada fila en AB\n",
        "for i in range(0,n-1,1):\n",
        "    # columna desde diagonal i en adelante\n",
        "    columna = abs(AB[i:,i])\n",
        "    max = np.argmax(columna)\n",
        "    \n",
        "    # dondemax no está en diagonal\n",
        "    if (max !=0):\n",
        "        # intercambia filas\n",
        "        temporal = np.copy(AB[i,:])\n",
        "        AB[i,:] = AB[max+i,:]\n",
        "        AB[max+i,:] = temporal\n",
        "        \n",
        "AB1 = np.copy(AB)\n",
        "\n",
        "#eliminacion hacia adelante\n",
        "for i in range(0,n-1,1):\n",
        "    pivote = AB[i,i]\n",
        "    adelante = i + 1\n",
        "    for k in range(adelante,n,1):\n",
        "        factor = AB[k,i]/pivote\n",
        "        AB[k,:] = AB[k,:] - AB[i,:]*factor\n",
        "AB2 = np.copy(AB)\n",
        "\n",
        "#elimina hacia atras\n",
        "ultimafila = n-1\n",
        "ultimacolumna = m-1\n",
        "for i in range(ultimafila,0-1,-1):\n",
        "    pivote = AB[i,i]\n",
        "    atras = i-1 \n",
        "    for k in range(atras,0-1,-1):\n",
        "        factor = AB[k,i]/pivote\n",
        "        AB[k,:] = AB[k,:] - AB[i,:]*factor\n",
        "    # diagonal a unos\n",
        "    AB[i,:] = AB[i,:]/AB[i,i]\n",
        "X = np.copy(AB[:,ultimacolumna])\n",
        "X = np.transpose([X])\n",
        "\n",
        "# SALIDA\n",
        "a0 = X[0]\n",
        "a1 = X[1]\n",
        "a2 = X[2]\n",
        "print(\"a0 = \", a0)\n",
        "print(\"a1 = \", a1)\n",
        "print(\"a2 = \", a2)\n",
        "\n",
        "yiyprom = [1.6,3,1.1,1.2,3.2,3.3,1.7,0.1]\n",
        "for i in range(0,len(yiyprom)):\n",
        "\tyiyprom[i]=(y[i]-yprom)**2\n",
        "\n",
        "ya = [1.6,3,1.1,1.2,3.2,3.3,1.7,0.1]\n",
        "for i in range(0,len(ya)):\n",
        "\tya[i]=((y[i])-(a0)-(a1*x1[i])-(a2*x2[i]))**2\n",
        "\n",
        "st = sum(yiyprom)\n",
        "sr = sum(ya)\n",
        "r = (np.sqrt((st-sr)/st))*100\n",
        "\n",
        "print(\"St = [\",st,\"]\")\n",
        "print(\"Sr = \",sr)\n",
        "print(\"r = \",r, \"%\")"
      ],
      "metadata": {
        "colab": {
          "base_uri": "https://localhost:8080/"
        },
        "id": "sZl1xRy7Kz1E",
        "outputId": "e56dcbe0-5153-490d-d7e8-064ba9cbfc9c"
      },
      "execution_count": 52,
      "outputs": [
        {
          "output_type": "stream",
          "name": "stdout",
          "text": [
            "a0 =  [3.83529412]\n",
            "a1 =  [-1.24705882]\n",
            "a2 =  [0.89411765]\n",
            "St = [ 9.36 ]\n",
            "Sr =  [0.42352941]\n",
            "r =  [97.71136736] %\n"
          ]
        }
      ]
    }
  ]
}